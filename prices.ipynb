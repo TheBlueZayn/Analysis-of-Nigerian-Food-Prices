{
 "cells": [
  {
   "cell_type": "code",
   "execution_count": null,
   "metadata": {},
   "outputs": [],
   "source": [
    "    # st.subheader(\"Prices(₦) of \"+ food_item + \" (Jan 2017 - July 2022)\")\n",
    "    # line = pd.DataFrame(price_data[food_item])\n",
    "    # st.line_chart(line)\n",
    "    # # Show states with lowest and highest prices\n",
    "    # st.subheader(\"State with lowest and highest price of \" + food_item)\n",
    "    # st.write(low_high[low_high[\"Food Item\"] == food_item].set_index(\"Food Item\"))"
   ]
  }
 ],
 "metadata": {
  "kernelspec": {
   "display_name": "Python 3.10.5 64-bit",
   "language": "python",
   "name": "python3"
  },
  "language_info": {
   "codemirror_mode": {
    "name": "ipython",
    "version": 3
   },
   "file_extension": ".py",
   "mimetype": "text/x-python",
   "name": "python",
   "nbconvert_exporter": "python",
   "pygments_lexer": "ipython3",
   "version": "3.10.5"
  },
  "orig_nbformat": 4,
  "vscode": {
   "interpreter": {
    "hash": "26de051ba29f2982a8de78e945f0abaf191376122a1563185a90213a26c5da77"
   }
  }
 },
 "nbformat": 4,
 "nbformat_minor": 2
}
